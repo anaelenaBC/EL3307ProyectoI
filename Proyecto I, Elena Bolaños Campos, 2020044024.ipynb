{
 "cells": [
  {
   "cell_type": "markdown",
   "id": "1d46016b",
   "metadata": {},
   "source": [
    "# Algoritmo de Quine-McCluskey:"
   ]
  },
  {
   "cell_type": "markdown",
   "id": "25911940",
   "metadata": {},
   "source": [
    "Es un método de simplificación de funciones booleanas desarrollado por Willard Van Orman Quine y Edward J. McCluskey. Es funcionalmente idéntico a la utilización del mapa de Karnaugh, pero su forma tabular lo hace más eficiente para su implementación en lenguajes computacionales, y provee un método determinista de conseguir la mínima expresión de una función booleana."
   ]
  },
  {
   "cell_type": "markdown",
   "id": "8711cc35",
   "metadata": {},
   "source": [
    "### Procedimiento:"
   ]
  },
  {
   "cell_type": "markdown",
   "id": "0d4f2570",
   "metadata": {},
   "source": [
    "El procedimiento de Quine-McClusky parte del hecho de que una ecuación booleana está descrita por sus\n",
    "mintérminos. Para obtenerla es necesario elaborar una tabla de verdad a partir de la ecuación booleana si se inicia con una. A continuación se describe el procedimiento a partir de aquí:"
   ]
  },
  {
   "cell_type": "markdown",
   "id": "fd4bfc04",
   "metadata": {},
   "source": [
    "###### Paso 1:\n",
    "Convertir cada mintérmino de la función booleana por su equivalente en representación binaria.\n",
    "Este paso se realiza utilizando la función formarTodosMinterminos(cantidadVariables), que recibe la cantidad de variables que se está operando en la función lógica como parámetro. Retorna como salida una lista con todos los mintérminos en su forma binaria."
   ]
  },
  {
   "cell_type": "code",
   "execution_count": 47,
   "id": "45298acc",
   "metadata": {},
   "outputs": [
    {
     "name": "stdout",
     "output_type": "stream",
     "text": [
      "[['0', '0', '0', '0'], ['0', '0', '0', '1'], ['0', '0', '1', '0'], ['0', '0', '1', '1'], ['0', '1', '0', '0'], ['0', '1', '0', '1'], ['0', '1', '1', '0'], ['0', '1', '1', '1'], ['1', '0', '0', '0'], ['1', '0', '0', '1'], ['1', '0', '1', '0'], ['1', '0', '1', '1'], ['1', '1', '0', '0'], ['1', '1', '0', '1'], ['1', '1', '1', '0'], ['1', '1', '1', '1']]\n"
     ]
    }
   ],
   "source": [
    "def formarTodosMinterminos(cantidadVariables):\n",
    "    valoresBinariosVariables = []\n",
    "    minterminos = []\n",
    "    for variable in range(0, cantidadVariables):\n",
    "        valoresBinariosVariable = []\n",
    "        cantidadGruposBinarios = 2**(variable+1)\n",
    "        cantidadRepeticionesBinarias = (2**cantidadVariables)//cantidadGruposBinarios\n",
    "        valorBinarioActual = \"0\"\n",
    "        for grupoBinario in range(0, cantidadGruposBinarios):\n",
    "            cantidadRepeticionesBinarias = (2**cantidadVariables)//cantidadGruposBinarios\n",
    "            for repeticionBinaria in range(0, cantidadRepeticionesBinarias):\n",
    "                valoresBinariosVariable = valoresBinariosVariable + [valorBinarioActual]\n",
    "            if valorBinarioActual == \"0\":\n",
    "                valorBinarioActual = \"1\"\n",
    "            else:\n",
    "                valorBinarioActual = \"0\"\n",
    "        valoresBinariosVariables = valoresBinariosVariables + [valoresBinariosVariable]\n",
    "    cantidadMinterminos = 2**cantidadVariables\n",
    "    for indiceValoresBinariosVariables in range(0, cantidadMinterminos):\n",
    "        mintermino = []\n",
    "        for valoresBinariosVariable in valoresBinariosVariables:\n",
    "            mintermino = mintermino + [valoresBinariosVariable[indiceValoresBinariosVariables]]\n",
    "        minterminos = minterminos + [mintermino]\n",
    "    return minterminos\n",
    "\n",
    "todosMinterminos = formarTodosMinterminos(4)\n",
    "print(todosMinterminos)"
   ]
  },
  {
   "cell_type": "markdown",
   "id": "bf69a2af",
   "metadata": {},
   "source": [
    "Seguidamente, se seleccionan los mintérminos a utilizar en función de la sumatoria de los mintérminos que describen a la ecuación booleana. Para esto se programó la función seleccionarMinterminos(todosMinterminos, minterminosUtilizados), que recibe como parámetros a la lista de todos los minterminos formados previamente, y una lista con los índices de los mintérminos que describen a la ecuación. Retorna como salida la lista de mintérminos \"filtrada\", con el índice en la primera posición, el mintérmino en la segunda posición y un 0 en la tercera posición (que será sustituido más adelante)."
   ]
  },
  {
   "cell_type": "code",
   "execution_count": 48,
   "id": "148dfd44",
   "metadata": {},
   "outputs": [
    {
     "name": "stdout",
     "output_type": "stream",
     "text": [
      "[[[0], ['0', '0', '0', '0'], 0], [[2], ['0', '0', '1', '0'], 0], [[8], ['1', '0', '0', '0'], 0], [[9], ['1', '0', '0', '1'], 0]]\n"
     ]
    }
   ],
   "source": [
    "def seleccionarMinterminos(todosMinterminos, minterminosUtilizados):\n",
    "    minterminos = []\n",
    "    cantidadMinterminos = len(todosMinterminos)\n",
    "    for indiceMintermino in range(0, cantidadMinterminos):\n",
    "        if indiceMintermino in minterminosUtilizados:\n",
    "            minterminos = minterminos + [[[indiceMintermino],todosMinterminos[indiceMintermino],0]]\n",
    "    return minterminos\n",
    "\n",
    "todosMinterminos = formarTodosMinterminos(4)\n",
    "minterminosSeleccionados = seleccionarMinterminos(todosMinterminos, [0, 2, 8, 9])\n",
    "print(minterminosSeleccionados)"
   ]
  },
  {
   "cell_type": "markdown",
   "id": "f97626ee",
   "metadata": {},
   "source": [
    "###### Paso 2:\n",
    "Agrupar mintérminos por la cantidad de 1s en la representación binaria. Ej: 1010 tiene dos\n",
    "unos y se puede agrupar con 1100 y 0110. Si se está trabajando por con 4 literales, se van a encontrar\n",
    "máximo 5 grupos: 0 unos, 1 uno, 2 unos, 3 unos y 4 unos. Los grupos encontrados se ordenan en una\n",
    "tabla. Para cumplir con esto, se crea una función llamada minterminosAgrupadosCantidadUnos(minterminos, cantidadVariables), que recibe como parámetros a la lista de minterminos (con la estructura descrita en el paso 1) y la cantidad de variables que tiene la ecuación lógica (para este proyecto pueden ser 4, 5 o 6 variables). La función retorna como salida una lista con los mintérminos agrupados según la cantidad de unos."
   ]
  },
  {
   "cell_type": "code",
   "execution_count": 49,
   "id": "3b2e16c1",
   "metadata": {},
   "outputs": [
    {
     "name": "stdout",
     "output_type": "stream",
     "text": [
      "[[[[0], ['0', '0', '0', '0'], 0]], [[[2], ['0', '0', '1', '0'], 1], [[8], ['1', '0', '0', '0'], 1]], [[[9], ['1', '0', '0', '1'], 2]]]\n"
     ]
    }
   ],
   "source": [
    "def agruparMinterminosCantidadUnos(minterminos, cantidadVariables):\n",
    "    minterminosAgrupadosCantidadUnos = []\n",
    "    for posibleCantidadUnos in range(0, (cantidadVariables+1)):\n",
    "        minterminosAgrupadosPosibleCantidadUnos = []\n",
    "        for mintermino in minterminos:\n",
    "            valorBinarioMintermino = mintermino[1]\n",
    "            if valorBinarioMintermino.count(\"1\") == posibleCantidadUnos:\n",
    "                minterminosAgrupadosPosibleCantidadUnos = minterminosAgrupadosPosibleCantidadUnos + [[mintermino[0],mintermino[1],posibleCantidadUnos]]\n",
    "        if minterminosAgrupadosPosibleCantidadUnos != []:\n",
    "            minterminosAgrupadosCantidadUnos = minterminosAgrupadosCantidadUnos + [minterminosAgrupadosPosibleCantidadUnos]\n",
    "    return minterminosAgrupadosCantidadUnos\n",
    "\n",
    "todosMinterminos = formarTodosMinterminos(4)\n",
    "minterminosSeleccionados = seleccionarMinterminos(todosMinterminos, [0, 2, 8, 9])\n",
    "minterminosAgrupados = agruparMinterminosCantidadUnos(minterminosSeleccionados, 4)\n",
    "print(minterminosAgrupados)"
   ]
  },
  {
   "cell_type": "markdown",
   "id": "821b8145",
   "metadata": {},
   "source": [
    "###### Paso 3:\n",
    "Antes de continuar con el resto del algoritmo se realiza un \"paso extra\" que consiste en verificar si es posible simplificar la expresión. Una expresión simplificable si cumple que al comparar cada número del mintérmino en el grupo superior con canda mintérmino del grupoinferior se encuentra que entre dos números, cada posición es igual menos solo un dígito. La función verificarPosibleSimplificar(minterminosAgrupadosCantidadUnos) hace justamente esto, retornando como salida un True en caso de que se pueda simplificar, y un False en el caso contrario."
   ]
  },
  {
   "cell_type": "code",
   "execution_count": 50,
   "id": "6b1d88be",
   "metadata": {},
   "outputs": [
    {
     "name": "stdout",
     "output_type": "stream",
     "text": [
      "True\n"
     ]
    }
   ],
   "source": [
    "def verificarPosibleSimplificar(minterminosAgrupadosCantidadUnos):\n",
    "    for grupoCantidadUnosComparar in minterminosAgrupadosCantidadUnos:\n",
    "        cantidadUnos = grupoCantidadUnosComparar[0][2]\n",
    "        for grupoCantidadUnosComparado in minterminosAgrupadosCantidadUnos:\n",
    "            if cantidadUnos+1 == grupoCantidadUnosComparado[0][2]:\n",
    "                for minterminoComparar in grupoCantidadUnosComparar:\n",
    "                    for minterminoComparado in grupoCantidadUnosComparado:\n",
    "                        diferenciasBit = 0\n",
    "                        for indiceValorLogico in range(0, len(minterminoComparar[1])):\n",
    "                            if minterminoComparar[1][indiceValorLogico] != minterminoComparado[1][indiceValorLogico]:\n",
    "                                diferenciasBit = diferenciasBit + 1\n",
    "                        if diferenciasBit == 1:\n",
    "                            return True\n",
    "    return False\n",
    "\n",
    "todosMinterminos = formarTodosMinterminos(4)\n",
    "minterminosSeleccionados = seleccionarMinterminos(todosMinterminos, [0, 2, 8, 9])\n",
    "minterminosAgrupados = agruparMinterminosCantidadUnos(minterminosSeleccionados, 4)\n",
    "posibleSimplificar = verificarPosibleSimplificar(minterminosAgrupados)\n",
    "print(posibleSimplificar)"
   ]
  },
  {
   "cell_type": "markdown",
   "id": "b30ca2f5",
   "metadata": {},
   "source": [
    "###### Paso 4:\n",
    "Comparar cada número del mintérmino en el grupo superior con canda mintérmino del grupo\n",
    "inferior. Si entre dos números, cada posición es igual menos solo un dígito, se anota un número nuevo\n",
    "en otra tabla con la misma representación binaria pero con una x en el dígito que difieren. Asimismo,\n",
    "se le coloca de categoría la composición de los mintérminos que crean el nuevo elemento. En caso que\n",
    "un mintérmino no se puede emparejar con ningún otro de la tabla, este se retira y se marca como\n",
    "implicante primo. Este paso consiste entonces en repetir iterativamente una simplificación basada en la comprobación realizada en la función verificarPosibleSimplificar(minterminosAgrupadosCantidadUnos), sustituyendo las diferencias en un bit por el símbolo \"-\" dentro de la lista de mintérminos, hasta que el booleano de verificarPosibleSimplificar(minterminosAgrupadosCantidadUnos) sea un False (es decir, que la función ya no es simplificable). El código a continuación se comenta para que la libreta permita mostrar solo unas líneas sin requerir del resto del algoritmo."
   ]
  },
  {
   "cell_type": "code",
   "execution_count": 51,
   "id": "c3cc190e",
   "metadata": {},
   "outputs": [],
   "source": [
    "#while (posibleSimplificar):\n",
    "    #minterminosAgrupadosCantidadUnos = simplificar(minterminosAgrupadosCantidadUnos, cantidadVariables)\n",
    "    #posibleSimplificar = verificarPosibleSimplificar(minterminosAgrupadosCantidadUnos)"
   ]
  },
  {
   "cell_type": "markdown",
   "id": "20f811fb",
   "metadata": {},
   "source": [
    "###### Paso 5, 6 y 7:\n",
    "Encontrar los implicantes primos esenciales. Para encontrarlo se elabora la tabla de implicantes primos donde cada implicante primo encontrado se coloca en una fila y los mintérminos que lo\n",
    "componen se marcan como columnas. De acuerdo a la tabla, si un mintérmino solo es cubierto por un solo implicante primo, este es un implicante esencial. En caso contrario, si cada mintérmino de un implicante primo puede ser cubierto por los demás, este se retira de la tabla. Los implicantes primos esenciales corresponden a la ecuación booleana reducida. Para esto, una vez que el condicional del while anteriormente mostrado en el paso 4 es False, se procede a encontrar los implicantes primos esenciales con la función encontrarImplicantesPrimosEsenciales(minterminosAgrupadosCantidadUnos)."
   ]
  },
  {
   "cell_type": "markdown",
   "id": "d9a4abc4",
   "metadata": {},
   "source": [
    "### Interfaz gráfica:\n",
    "Como parte del proyecto, se creó una interfaz gráfica utilizando la biblioteca Tkinter. Consta de una ventana de selección para la cantidad de variables de entrada, y un espacio para colocar la lista, separada por comas, de los mintérminos que componen a la ecuación booleana."
   ]
  },
  {
   "cell_type": "code",
   "execution_count": 53,
   "id": "4e4bc526",
   "metadata": {},
   "outputs": [],
   "source": [
    "from tkinter import *\n",
    "from os import *\n",
    "\n",
    "from algoritmoQuineMcClusky import *\n",
    "\n",
    "def abrirVentanaError(ventanaPrincipal):\n",
    "    ventanaError = Toplevel(ventanaPrincipal)\n",
    "    ventanaError.geometry('300x100')\n",
    "    ventanaError.resizable(False, False)\n",
    "    ventanaError.title('Error')\n",
    "    labelError = Label(ventanaError, text=\"Error en los mintérminos colocados.\\nInténtelo nuevamente.\", font=(\"Arial\",10)).pack(pady=(30,0))\n",
    "    ventanaError.mainloop\n",
    "\n",
    "def definirCaracteristicasVentanaPrincipal(ventanaPrincipal):\n",
    "    ventanaPrincipal.geometry('400x350')\n",
    "    ventanaPrincipal.resizable(False, False)\n",
    "    ventanaPrincipal.title('Proyecto I - EL3307')\n",
    "\n",
    "def agregarComponentesVentanaPrincipal(ventanaPrincipal):\n",
    "    labelTitulo = Label(ventanaPrincipal, text=\"Algoritmo Quine-McClusky\", font=(\"Arial\",15)).pack(pady=(10,0))\n",
    "    labelNumeroVariables = Label(ventanaPrincipal, text=\"Seleccione el número de variables:\", font=(\"Arial\",10)).pack(pady=(20,0))\n",
    "    variableNumeroVariables = StringVar(ventanaPrincipal, \"4\")\n",
    "    botonCuatroVariables = Radiobutton(ventanaPrincipal, text=\"4 variables\", variable=variableNumeroVariables, value=\"4\").pack()\n",
    "    botonCincoVariables = Radiobutton(ventanaPrincipal, text=\"5 variables\", variable=variableNumeroVariables, value=\"5\").pack()\n",
    "    botonSeisVariables = Radiobutton(ventanaPrincipal, text=\"6 variables\", variable=variableNumeroVariables, value=\"6\").pack()\n",
    "    labelSumaMinterminos = Label(ventanaPrincipal, text=\"Coloque los mintérminos (separados por coma):\", font=(\"Arial\",10)).pack(pady=(20,0))\n",
    "    entrySumaMinterminos = Entry(ventanaPrincipal, width=40)\n",
    "    entrySumaMinterminos.pack(pady=(10,0))\n",
    "    botonEjecutarAlgoritmoQuineMcClusky = Button(ventanaPrincipal, text=\"Ejecutar algoritmo Quine-McClusky\", command=lambda:ejecutarAlgoritmoQuineMcClusky(ventanaPrincipal,variableNumeroVariables.get(),entrySumaMinterminos.get())).pack(pady=(30,0))\n",
    "    botonCompararAlgoritmosQuineMcCluskyExpresso = Button(ventanaPrincipal, text=\"Comparar algoritmos Quine-McClusky con Expresso\", command=lambda:compararAlgoritmosQuineMcCluskyExpresso()).pack(pady=(10,0))\n",
    "\n",
    "def main():\n",
    "    ventanaPrincipal = Tk()\n",
    "    definirCaracteristicasVentanaPrincipal(ventanaPrincipal)\n",
    "    agregarComponentesVentanaPrincipal(ventanaPrincipal)\n",
    "    ventanaPrincipal.mainloop()\n",
    "\n",
    "main()"
   ]
  },
  {
   "cell_type": "markdown",
   "id": "0839f0cb",
   "metadata": {},
   "source": [
    "### Ejecución final del algoritmo:\n",
    "Para ejecutar el algoritmo de Quine-McCluskey es necesario ejecutar el siguiente código:"
   ]
  },
  {
   "cell_type": "code",
   "execution_count": 54,
   "id": "a64427a1",
   "metadata": {},
   "outputs": [],
   "source": [
    "def algoritmoQuineMcClusky(cantidadVariables, minterminosUtilizados):\n",
    "    todosMinterminos = formarTodosMinterminos(cantidadVariables)\n",
    "    minterminos = seleccionarMinterminos(todosMinterminos, minterminosUtilizados)\n",
    "    minterminosAgrupadosCantidadUnos = agruparMinterminosCantidadUnos(minterminos, cantidadVariables)\n",
    "    posibleSimplificar = verificarPosibleSimplificar(minterminosAgrupadosCantidadUnos)\n",
    "    while (posibleSimplificar):\n",
    "        minterminosAgrupadosCantidadUnos = simplificar(minterminosAgrupadosCantidadUnos, cantidadVariables)\n",
    "        posibleSimplificar = verificarPosibleSimplificar(minterminosAgrupadosCantidadUnos)\n",
    "    implicantesPrimosEsenciales = encontrarImplicantesPrimosEsenciales(minterminosAgrupadosCantidadUnos) \n",
    "    return [0,0]\n",
    "\n",
    "def formarTodosMinterminos(cantidadVariables):\n",
    "    valoresBinariosVariables = []\n",
    "    minterminos = []\n",
    "    for variable in range(0, cantidadVariables):\n",
    "        valoresBinariosVariable = []\n",
    "        cantidadGruposBinarios = 2**(variable+1)\n",
    "        cantidadRepeticionesBinarias = (2**cantidadVariables)//cantidadGruposBinarios\n",
    "        valorBinarioActual = \"0\"\n",
    "        for grupoBinario in range(0, cantidadGruposBinarios):\n",
    "            cantidadRepeticionesBinarias = (2**cantidadVariables)//cantidadGruposBinarios\n",
    "            for repeticionBinaria in range(0, cantidadRepeticionesBinarias):\n",
    "                valoresBinariosVariable = valoresBinariosVariable + [valorBinarioActual]\n",
    "            if valorBinarioActual == \"0\":\n",
    "                valorBinarioActual = \"1\"\n",
    "            else:\n",
    "                valorBinarioActual = \"0\"\n",
    "        valoresBinariosVariables = valoresBinariosVariables + [valoresBinariosVariable]\n",
    "    cantidadMinterminos = 2**cantidadVariables\n",
    "    for indiceValoresBinariosVariables in range(0, cantidadMinterminos):\n",
    "        mintermino = []\n",
    "        for valoresBinariosVariable in valoresBinariosVariables:\n",
    "            mintermino = mintermino + [valoresBinariosVariable[indiceValoresBinariosVariables]]\n",
    "        minterminos = minterminos + [mintermino]\n",
    "    return minterminos\n",
    "        \n",
    "def seleccionarMinterminos(todosMinterminos, minterminosUtilizados):\n",
    "    minterminos = []\n",
    "    cantidadMinterminos = len(todosMinterminos)\n",
    "    for indiceMintermino in range(0, cantidadMinterminos):\n",
    "        if indiceMintermino in minterminosUtilizados:\n",
    "            minterminos = minterminos + [[[indiceMintermino],todosMinterminos[indiceMintermino],0]]\n",
    "    return minterminos\n",
    "\n",
    "def agruparMinterminosCantidadUnos(minterminos, cantidadVariables):\n",
    "    minterminosAgrupadosCantidadUnos = []\n",
    "    for posibleCantidadUnos in range(0, (cantidadVariables+1)):\n",
    "        minterminosAgrupadosPosibleCantidadUnos = []\n",
    "        for mintermino in minterminos:\n",
    "            valorBinarioMintermino = mintermino[1]\n",
    "            if valorBinarioMintermino.count(\"1\") == posibleCantidadUnos:\n",
    "                minterminosAgrupadosPosibleCantidadUnos = minterminosAgrupadosPosibleCantidadUnos + [[mintermino[0],mintermino[1],posibleCantidadUnos]]\n",
    "        if minterminosAgrupadosPosibleCantidadUnos != []:\n",
    "            minterminosAgrupadosCantidadUnos = minterminosAgrupadosCantidadUnos + [minterminosAgrupadosPosibleCantidadUnos]\n",
    "    return minterminosAgrupadosCantidadUnos\n",
    "    \n",
    "def verificarPosibleSimplificar(minterminosAgrupadosCantidadUnos):\n",
    "    for grupoCantidadUnosComparar in minterminosAgrupadosCantidadUnos:\n",
    "        cantidadUnos = grupoCantidadUnosComparar[0][2]\n",
    "        for grupoCantidadUnosComparado in minterminosAgrupadosCantidadUnos:\n",
    "            if cantidadUnos+1 == grupoCantidadUnosComparado[0][2]:\n",
    "                for minterminoComparar in grupoCantidadUnosComparar:\n",
    "                    for minterminoComparado in grupoCantidadUnosComparado:\n",
    "                        diferenciasBit = 0\n",
    "                        for indiceValorLogico in range(0, len(minterminoComparar[1])):\n",
    "                            if minterminoComparar[1][indiceValorLogico] != minterminoComparado[1][indiceValorLogico]:\n",
    "                                diferenciasBit = diferenciasBit + 1\n",
    "                        if diferenciasBit == 1:\n",
    "                            return True\n",
    "    return False\n",
    "\n",
    "def simplificar(minterminosAgrupadosCantidadUnos, cantidadVariables):\n",
    "    nuevosMinterminos = []\n",
    "    for grupoCantidadUnosComparar in minterminosAgrupadosCantidadUnos:\n",
    "        cantidadUnos = grupoCantidadUnosComparar[0][2]\n",
    "        for grupoCantidadUnosComparado in minterminosAgrupadosCantidadUnos:\n",
    "            if cantidadUnos+1 == grupoCantidadUnosComparado[0][2]:\n",
    "                for minterminoComparar in grupoCantidadUnosComparar:\n",
    "                    for minterminoComparado in grupoCantidadUnosComparado:\n",
    "                        diferenciasBit = 0\n",
    "                        indiceValorLogicoDiferencia = 0\n",
    "                        for indiceValorLogico in range(0, len(minterminoComparar[1])):\n",
    "                            if minterminoComparar[1][indiceValorLogico] != minterminoComparado[1][indiceValorLogico]:\n",
    "                                diferenciasBit = diferenciasBit + 1\n",
    "                                indiceValorLogicoDiferencia = indiceValorLogico\n",
    "                        if diferenciasBit == 1:\n",
    "                            minterminosSimplificados = minterminoComparar[0] + minterminoComparado[0]\n",
    "                            valorLogicoSimplificado = []\n",
    "                            for indiceValorLogicoSimplificado in range(0, len(minterminoComparar[1])):\n",
    "                                if indiceValorLogicoSimplificado == indiceValorLogicoDiferencia:\n",
    "                                    valorLogicoSimplificado = valorLogicoSimplificado + [\"-\"]\n",
    "                                else:\n",
    "                                    valorLogicoSimplificado = valorLogicoSimplificado + [minterminoComparar[1][indiceValorLogicoSimplificado]]\n",
    "                            nuevosMinterminos = nuevosMinterminos + [[minterminosSimplificados, valorLogicoSimplificado, cantidadUnos]]\n",
    "    minterminosFinales = nuevosMinterminos\n",
    "    for grupoCantidadUnos in minterminosAgrupadosCantidadUnos:\n",
    "        for mintermino in grupoCantidadUnos:\n",
    "            seSimplifico = False\n",
    "            for minterminoSimplificado in nuevosMinterminos:\n",
    "                cantidadCoincidencias = 0\n",
    "                for minterminoUtilizado in mintermino[0]:\n",
    "                    print(minterminoUtilizado)\n",
    "                    cantidadCoincidencias = 0\n",
    "                    for minterminoUtilizadoSimplificacion in minterminoSimplificado[0]:\n",
    "                        if minterminoUtilizado == minterminoUtilizadoSimplificacion:\n",
    "                            cantidadCoincidencias = cantidadCoincidencias + 1\n",
    "                if cantidadCoincidencias != len(mintermino[0]):\n",
    "                    minterminosFinales = minterminosFinales + [mintermino]\n",
    "    minterminosFinales = agruparMinterminosCantidadUnos(minterminosFinales, cantidadVariables)\n",
    "    return minterminosFinales\n",
    "\n",
    "def encontrarImplicantesPrimosEsenciales(minterminosAgrupadosCantidadUnos):\n",
    "    minterminos = []\n",
    "    for grupoCantidadUnos in minterminosAgrupadosCantidadUnos:\n",
    "        pass\n",
    "\n",
    "from tkinter import *\n",
    "from os import *\n",
    "def abrirVentanaError(ventanaPrincipal):\n",
    "    ventanaError = Toplevel(ventanaPrincipal)\n",
    "    ventanaError.geometry('300x100')\n",
    "    ventanaError.resizable(False, False)\n",
    "    ventanaError.title('Error')\n",
    "    labelError = Label(ventanaError, text=\"Error en los mintérminos colocados.\\nInténtelo nuevamente.\", font=(\"Arial\",10)).pack(pady=(30,0))\n",
    "    ventanaError.mainloop\n",
    "\n",
    "def ejecutarAlgoritmoQuineMcClusky(ventanaPrincipal, numeroVariables, sumaMinterminos):\n",
    "    posiblesMinterminos = []\n",
    "    for posibleMintermino in range(0, 2**int(numeroVariables)):\n",
    "        posiblesMinterminos.append(posibleMintermino)\n",
    "    minterminoInvalido = False\n",
    "    minterminosColocados = []\n",
    "    for minterminoColocado in sumaMinterminos.split(\",\"):\n",
    "        try:\n",
    "            if int(minterminoColocado) in posiblesMinterminos:\n",
    "                minterminosColocados.append(int(minterminoColocado))\n",
    "            else:\n",
    "                minterminoInvalido = True\n",
    "        except:\n",
    "            minterminoInvalido = True\n",
    "    if (minterminoInvalido):\n",
    "        abrirVentanaError(ventanaPrincipal)\n",
    "    else:\n",
    "        resultado = algoritmoQuineMcClusky(cantidadVariables, sumaMinterminos)\n",
    "        print(resultado)\n",
    "\n",
    "def definirCaracteristicasVentanaPrincipal(ventanaPrincipal):\n",
    "    ventanaPrincipal.geometry('400x350')\n",
    "    ventanaPrincipal.resizable(False, False)\n",
    "    ventanaPrincipal.title('Proyecto I - EL3307')\n",
    "\n",
    "def agregarComponentesVentanaPrincipal(ventanaPrincipal):\n",
    "    labelTitulo = Label(ventanaPrincipal, text=\"Algoritmo Quine-McClusky\", font=(\"Arial\",15)).pack(pady=(10,0))\n",
    "    labelNumeroVariables = Label(ventanaPrincipal, text=\"Seleccione el número de variables:\", font=(\"Arial\",10)).pack(pady=(20,0))\n",
    "    variableNumeroVariables = StringVar(ventanaPrincipal, \"4\")\n",
    "    botonCuatroVariables = Radiobutton(ventanaPrincipal, text=\"4 variables\", variable=variableNumeroVariables, value=\"4\").pack()\n",
    "    botonCincoVariables = Radiobutton(ventanaPrincipal, text=\"5 variables\", variable=variableNumeroVariables, value=\"5\").pack()\n",
    "    botonSeisVariables = Radiobutton(ventanaPrincipal, text=\"6 variables\", variable=variableNumeroVariables, value=\"6\").pack()\n",
    "    labelSumaMinterminos = Label(ventanaPrincipal, text=\"Coloque los mintérminos (separados por coma):\", font=(\"Arial\",10)).pack(pady=(20,0))\n",
    "    entrySumaMinterminos = Entry(ventanaPrincipal, width=40)\n",
    "    entrySumaMinterminos.pack(pady=(10,0))\n",
    "    botonEjecutarAlgoritmoQuineMcClusky = Button(ventanaPrincipal, text=\"Ejecutar algoritmo Quine-McClusky\", command=lambda:ejecutarAlgoritmoQuineMcClusky(ventanaPrincipal,variableNumeroVariables.get(),entrySumaMinterminos.get())).pack(pady=(30,0))\n",
    "    botonCompararAlgoritmosQuineMcCluskyExpresso = Button(ventanaPrincipal, text=\"Comparar algoritmos Quine-McClusky con Expresso\", command=lambda:compararAlgoritmosQuineMcCluskyExpresso()).pack(pady=(10,0))\n",
    "\n",
    "def main():\n",
    "    ventanaPrincipal = Tk()\n",
    "    definirCaracteristicasVentanaPrincipal(ventanaPrincipal)\n",
    "    agregarComponentesVentanaPrincipal(ventanaPrincipal)\n",
    "    ventanaPrincipal.mainloop()\n",
    "\n",
    "main()"
   ]
  },
  {
   "cell_type": "markdown",
   "id": "b1a56509",
   "metadata": {},
   "source": [
    "# Puntos extra: Algoritmo Expresso:\n",
    "El minimizador lógico ESPRESSO es un programa informático que utiliza algoritmos heurísticos y específicos para reducir eficientemente la complejidad de los circuitos de puertas lógicas digitales. Su complejidad es mucho menor que la del algoritmo Quine-McCluskey."
   ]
  }
 ],
 "metadata": {
  "kernelspec": {
   "display_name": "Python 3 (ipykernel)",
   "language": "python",
   "name": "python3"
  },
  "language_info": {
   "codemirror_mode": {
    "name": "ipython",
    "version": 3
   },
   "file_extension": ".py",
   "mimetype": "text/x-python",
   "name": "python",
   "nbconvert_exporter": "python",
   "pygments_lexer": "ipython3",
   "version": "3.10.4"
  }
 },
 "nbformat": 4,
 "nbformat_minor": 5
}
